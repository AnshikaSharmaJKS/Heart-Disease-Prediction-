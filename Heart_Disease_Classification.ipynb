{
  "cells": [
    {
      "cell_type": "markdown",
      "metadata": {
        "id": "TqHbH0U5QV0G"
      },
      "source": [
        "# Predicting heart disease using machine learning \n",
        "This notebook is going to use various machine learning models and libraries in an attempt to prepare a model to predict heart disease based on their medical attributes.\n",
        "We are going to take the following approach:\n",
        "1. Problem Defination\n",
        "2. Data\n",
        "3. Evaluation \n",
        "4. Features\n",
        "5. Modeling\n",
        "6. Experimentaion\n",
        "\n",
        "## 1. Problem Defination\n",
        "\n",
        " > Given the clinical record can we predict whether or not the pateint has heart disease.\n",
        "\n",
        "##  2. Data\n",
        "\n",
        ">Data available on kaggle.\n",
        "This database contains 76 attributes, but all published experiments refer to using a subset of 14 of them. In particular, the Cleveland database is the only one that has been used by ML researchers to\n",
        "this date. The \"goal\" field refers to the presence of heart disease in the patient. It is integer valued from 0 (no presence) to 4.\n",
        "\n",
        "## 3. Evaluation \n",
        "\n",
        ">If the accuracy in prediction is above 95% during the proof of concept then we will pursue with the model.\n",
        "\n",
        "## 4. Features\n",
        "\n",
        ">What feature of the data really means  ,this can be done using creating data dictionary.\n"
      ]
    },
    {
      "cell_type": "markdown",
      "metadata": {
        "id": "jfjfTDP_QV0J"
      },
      "source": [
        "## Preparing our tools\n"
      ]
    },
    {
      "cell_type": "code",
      "execution_count": null,
      "metadata": {
        "id": "t1xYLUwdQV0K"
      },
      "outputs": [],
      "source": [
        "# Import all tools we used \n",
        "# Regularly EDA and plotting\n",
        "import numpy as np\n",
        "import pandas as pd\n",
        "import matplotlib.pyplot as plt \n",
        "import seaborn as sns\n",
        "# To get plots in the notebook\n",
        "%matplotlib inline\n",
        "\n",
        "# Importing models\n",
        "from sklearn.linear_model import LogisticRegression\n",
        "from sklearn.neighbors import KNeighborsClassifier\n",
        "from sklearn.ensemble import RandomForestClassifier\n",
        "\n",
        "#Importing evaluation metrics\n",
        "from sklearn.model_selection import train_test_split,cross_val_score\n",
        "from sklearn.model_selection import RandomizedSearchCV,GridSearchCV\n",
        "from sklearn.metrics import confusion_matrix,classification_report\n",
        "from sklearn.metrics import precision_score,recall_score,f1_score,plot_roc_curve"
      ]
    },
    {
      "cell_type": "code",
      "execution_count": null,
      "metadata": {
        "id": "xyvPpb24QV0L",
        "outputId": "2d196c89-a55b-4f78-8022-aee3afe08229"
      },
      "outputs": [
        {
          "data": {
            "text/html": [
              "<div>\n",
              "<style scoped>\n",
              "    .dataframe tbody tr th:only-of-type {\n",
              "        vertical-align: middle;\n",
              "    }\n",
              "\n",
              "    .dataframe tbody tr th {\n",
              "        vertical-align: top;\n",
              "    }\n",
              "\n",
              "    .dataframe thead th {\n",
              "        text-align: right;\n",
              "    }\n",
              "</style>\n",
              "<table border=\"1\" class=\"dataframe\">\n",
              "  <thead>\n",
              "    <tr style=\"text-align: right;\">\n",
              "      <th></th>\n",
              "      <th>age</th>\n",
              "      <th>sex</th>\n",
              "      <th>cp</th>\n",
              "      <th>trestbps</th>\n",
              "      <th>chol</th>\n",
              "      <th>fbs</th>\n",
              "      <th>restecg</th>\n",
              "      <th>thalach</th>\n",
              "      <th>exang</th>\n",
              "      <th>oldpeak</th>\n",
              "      <th>slope</th>\n",
              "      <th>ca</th>\n",
              "      <th>thal</th>\n",
              "      <th>target</th>\n",
              "    </tr>\n",
              "  </thead>\n",
              "  <tbody>\n",
              "    <tr>\n",
              "      <th>0</th>\n",
              "      <td>63</td>\n",
              "      <td>1</td>\n",
              "      <td>3</td>\n",
              "      <td>145</td>\n",
              "      <td>233</td>\n",
              "      <td>1</td>\n",
              "      <td>0</td>\n",
              "      <td>150</td>\n",
              "      <td>0</td>\n",
              "      <td>2.3</td>\n",
              "      <td>0</td>\n",
              "      <td>0</td>\n",
              "      <td>1</td>\n",
              "      <td>1</td>\n",
              "    </tr>\n",
              "    <tr>\n",
              "      <th>1</th>\n",
              "      <td>37</td>\n",
              "      <td>1</td>\n",
              "      <td>2</td>\n",
              "      <td>130</td>\n",
              "      <td>250</td>\n",
              "      <td>0</td>\n",
              "      <td>1</td>\n",
              "      <td>187</td>\n",
              "      <td>0</td>\n",
              "      <td>3.5</td>\n",
              "      <td>0</td>\n",
              "      <td>0</td>\n",
              "      <td>2</td>\n",
              "      <td>1</td>\n",
              "    </tr>\n",
              "    <tr>\n",
              "      <th>2</th>\n",
              "      <td>41</td>\n",
              "      <td>0</td>\n",
              "      <td>1</td>\n",
              "      <td>130</td>\n",
              "      <td>204</td>\n",
              "      <td>0</td>\n",
              "      <td>0</td>\n",
              "      <td>172</td>\n",
              "      <td>0</td>\n",
              "      <td>1.4</td>\n",
              "      <td>2</td>\n",
              "      <td>0</td>\n",
              "      <td>2</td>\n",
              "      <td>1</td>\n",
              "    </tr>\n",
              "    <tr>\n",
              "      <th>3</th>\n",
              "      <td>56</td>\n",
              "      <td>1</td>\n",
              "      <td>1</td>\n",
              "      <td>120</td>\n",
              "      <td>236</td>\n",
              "      <td>0</td>\n",
              "      <td>1</td>\n",
              "      <td>178</td>\n",
              "      <td>0</td>\n",
              "      <td>0.8</td>\n",
              "      <td>2</td>\n",
              "      <td>0</td>\n",
              "      <td>2</td>\n",
              "      <td>1</td>\n",
              "    </tr>\n",
              "    <tr>\n",
              "      <th>4</th>\n",
              "      <td>57</td>\n",
              "      <td>0</td>\n",
              "      <td>0</td>\n",
              "      <td>120</td>\n",
              "      <td>354</td>\n",
              "      <td>0</td>\n",
              "      <td>1</td>\n",
              "      <td>163</td>\n",
              "      <td>1</td>\n",
              "      <td>0.6</td>\n",
              "      <td>2</td>\n",
              "      <td>0</td>\n",
              "      <td>2</td>\n",
              "      <td>1</td>\n",
              "    </tr>\n",
              "    <tr>\n",
              "      <th>...</th>\n",
              "      <td>...</td>\n",
              "      <td>...</td>\n",
              "      <td>...</td>\n",
              "      <td>...</td>\n",
              "      <td>...</td>\n",
              "      <td>...</td>\n",
              "      <td>...</td>\n",
              "      <td>...</td>\n",
              "      <td>...</td>\n",
              "      <td>...</td>\n",
              "      <td>...</td>\n",
              "      <td>...</td>\n",
              "      <td>...</td>\n",
              "      <td>...</td>\n",
              "    </tr>\n",
              "    <tr>\n",
              "      <th>298</th>\n",
              "      <td>57</td>\n",
              "      <td>0</td>\n",
              "      <td>0</td>\n",
              "      <td>140</td>\n",
              "      <td>241</td>\n",
              "      <td>0</td>\n",
              "      <td>1</td>\n",
              "      <td>123</td>\n",
              "      <td>1</td>\n",
              "      <td>0.2</td>\n",
              "      <td>1</td>\n",
              "      <td>0</td>\n",
              "      <td>3</td>\n",
              "      <td>0</td>\n",
              "    </tr>\n",
              "    <tr>\n",
              "      <th>299</th>\n",
              "      <td>45</td>\n",
              "      <td>1</td>\n",
              "      <td>3</td>\n",
              "      <td>110</td>\n",
              "      <td>264</td>\n",
              "      <td>0</td>\n",
              "      <td>1</td>\n",
              "      <td>132</td>\n",
              "      <td>0</td>\n",
              "      <td>1.2</td>\n",
              "      <td>1</td>\n",
              "      <td>0</td>\n",
              "      <td>3</td>\n",
              "      <td>0</td>\n",
              "    </tr>\n",
              "    <tr>\n",
              "      <th>300</th>\n",
              "      <td>68</td>\n",
              "      <td>1</td>\n",
              "      <td>0</td>\n",
              "      <td>144</td>\n",
              "      <td>193</td>\n",
              "      <td>1</td>\n",
              "      <td>1</td>\n",
              "      <td>141</td>\n",
              "      <td>0</td>\n",
              "      <td>3.4</td>\n",
              "      <td>1</td>\n",
              "      <td>2</td>\n",
              "      <td>3</td>\n",
              "      <td>0</td>\n",
              "    </tr>\n",
              "    <tr>\n",
              "      <th>301</th>\n",
              "      <td>57</td>\n",
              "      <td>1</td>\n",
              "      <td>0</td>\n",
              "      <td>130</td>\n",
              "      <td>131</td>\n",
              "      <td>0</td>\n",
              "      <td>1</td>\n",
              "      <td>115</td>\n",
              "      <td>1</td>\n",
              "      <td>1.2</td>\n",
              "      <td>1</td>\n",
              "      <td>1</td>\n",
              "      <td>3</td>\n",
              "      <td>0</td>\n",
              "    </tr>\n",
              "    <tr>\n",
              "      <th>302</th>\n",
              "      <td>57</td>\n",
              "      <td>0</td>\n",
              "      <td>1</td>\n",
              "      <td>130</td>\n",
              "      <td>236</td>\n",
              "      <td>0</td>\n",
              "      <td>0</td>\n",
              "      <td>174</td>\n",
              "      <td>0</td>\n",
              "      <td>0.0</td>\n",
              "      <td>1</td>\n",
              "      <td>1</td>\n",
              "      <td>2</td>\n",
              "      <td>0</td>\n",
              "    </tr>\n",
              "  </tbody>\n",
              "</table>\n",
              "<p>303 rows × 14 columns</p>\n",
              "</div>"
            ],
            "text/plain": [
              "     age  sex  cp  trestbps  chol  fbs  restecg  thalach  exang  oldpeak  \\\n",
              "0     63    1   3       145   233    1        0      150      0      2.3   \n",
              "1     37    1   2       130   250    0        1      187      0      3.5   \n",
              "2     41    0   1       130   204    0        0      172      0      1.4   \n",
              "3     56    1   1       120   236    0        1      178      0      0.8   \n",
              "4     57    0   0       120   354    0        1      163      1      0.6   \n",
              "..   ...  ...  ..       ...   ...  ...      ...      ...    ...      ...   \n",
              "298   57    0   0       140   241    0        1      123      1      0.2   \n",
              "299   45    1   3       110   264    0        1      132      0      1.2   \n",
              "300   68    1   0       144   193    1        1      141      0      3.4   \n",
              "301   57    1   0       130   131    0        1      115      1      1.2   \n",
              "302   57    0   1       130   236    0        0      174      0      0.0   \n",
              "\n",
              "     slope  ca  thal  target  \n",
              "0        0   0     1       1  \n",
              "1        0   0     2       1  \n",
              "2        2   0     2       1  \n",
              "3        2   0     2       1  \n",
              "4        2   0     2       1  \n",
              "..     ...  ..   ...     ...  \n",
              "298      1   0     3       0  \n",
              "299      1   0     3       0  \n",
              "300      1   2     3       0  \n",
              "301      1   1     3       0  \n",
              "302      1   1     2       0  \n",
              "\n",
              "[303 rows x 14 columns]"
            ]
          },
          "execution_count": 2,
          "metadata": {},
          "output_type": "execute_result"
        }
      ],
      "source": [
        "df=pd.read_csv(\"heart-disease.csv\")\n",
        "df"
      ]
    },
    {
      "cell_type": "markdown",
      "metadata": {
        "id": "vzz3UhIKQV0N"
      },
      "source": [
        "# Data Exploration (Exploratory Data Analysis) or EDA\n",
        "\n",
        "This is to find more about the data and become master of the data we are working on ,so that any question can be answered regarding the dataset.\n",
        "\n",
        "1. What are you trying to solve?\n",
        "2. What kind/type of data you have and how to treat the data ?\n",
        "3. What is missing from the data and how to deal with the missing data?\n",
        "4. What are outliers and why you care about them ?\n",
        "5. How to add or remove features to get most out of data?"
      ]
    },
    {
      "cell_type": "code",
      "execution_count": null,
      "metadata": {
        "id": "wkTMij3NQV0O",
        "outputId": "844655b3-84aa-4d4a-999d-f5edff3b5d14"
      },
      "outputs": [
        {
          "data": {
            "text/plain": [
              "1    165\n",
              "0    138\n",
              "Name: target, dtype: int64"
            ]
          },
          "execution_count": 3,
          "metadata": {},
          "output_type": "execute_result"
        }
      ],
      "source": [
        "df[\"target\"].value_counts()"
      ]
    },
    {
      "cell_type": "code",
      "execution_count": null,
      "metadata": {
        "id": "lPEkAfAZQV0P",
        "outputId": "c8bb9276-af5f-4caf-f2f3-75dc23dc8943"
      },
      "outputs": [
        {
          "data": {
            "text/plain": [
              "<AxesSubplot:>"
            ]
          },
          "execution_count": 4,
          "metadata": {},
          "output_type": "execute_result"
        },
        {
          "data": {
            "image/png": "[encoded data removed]",
            "text/plain": [
              "<Figure size 432x288 with 1 Axes>"
            ]
          },
          "metadata": {
            "needs_background": "light"
          },
          "output_type": "display_data"
        }
      ],
      "source": [
        "df[\"target\"].value_counts().plot(kind=\"bar\",color=[\"pink\",\"orange\"])"
      ]
    },
    {
      "cell_type": "code",
      "execution_count": null,
      "metadata": {
        "id": "WW_T7GoTQV0Q",
        "outputId": "9e3eafae-a437-482c-fd3d-18fa834bb9fc"
      },
      "outputs": [
        {
          "name": "stdout",
          "output_type": "stream",
          "text": [
            "<class 'pandas.core.frame.DataFrame'>\n",
            "RangeIndex: 303 entries, 0 to 302\n",
            "Data columns (total 14 columns):\n",
            " #   Column    Non-Null Count  Dtype  \n",
            "---  ------    --------------  -----  \n",
            " 0   age       303 non-null    int64  \n",
            " 1   sex       303 non-null    int64  \n",
            " 2   cp        303 non-null    int64  \n",
            " 3   trestbps  303 non-null    int64  \n",
            " 4   chol      303 non-null    int64  \n",
            " 5   fbs       303 non-null    int64  \n",
            " 6   restecg   303 non-null    int64  \n",
            " 7   thalach   303 non-null    int64  \n",
            " 8   exang     303 non-null    int64  \n",
            " 9   oldpeak   303 non-null    float64\n",
            " 10  slope     303 non-null    int64  \n",
            " 11  ca        303 non-null    int64  \n",
            " 12  thal      303 non-null    int64  \n",
            " 13  target    303 non-null    int64  \n",
            "dtypes: float64(1), int64(13)\n",
            "memory usage: 33.3 KB\n"
          ]
        }
      ],
      "source": [
        "df.info()\n",
        "# Numeric everything"
      ]
    },
    {
      "cell_type": "code",
      "execution_count": null,
      "metadata": {
        "id": "41ALsnAfQV0Q",
        "outputId": "cb49c9a1-c378-415b-f1fe-050e4188352d"
      },
      "outputs": [
        {
          "data": {
            "text/plain": [
              "age         0\n",
              "sex         0\n",
              "cp          0\n",
              "trestbps    0\n",
              "chol        0\n",
              "fbs         0\n",
              "restecg     0\n",
              "thalach     0\n",
              "exang       0\n",
              "oldpeak     0\n",
              "slope       0\n",
              "ca          0\n",
              "thal        0\n",
              "target      0\n",
              "dtype: int64"
            ]
          },
          "execution_count": 6,
          "metadata": {},
          "output_type": "execute_result"
        }
      ],
      "source": [
        "# Anything missing?\n",
        "df.isna().sum()"
      ]
    },
    {
      "cell_type": "code",
      "execution_count": null,
      "metadata": {
        "id": "7u-5TEhUQV0R",
        "outputId": "e5f2212b-c301-4a11-c894-3dc80c210d92"
      },
      "outputs": [
        {
          "data": {
            "text/html": [
              "<div>\n",
              "<style scoped>\n",
              "    .dataframe tbody tr th:only-of-type {\n",
              "        vertical-align: middle;\n",
              "    }\n",
              "\n",
              "    .dataframe tbody tr th {\n",
              "        vertical-align: top;\n",
              "    }\n",
              "\n",
              "    .dataframe thead th {\n",
              "        text-align: right;\n",
              "    }\n",
              "</style>\n",
              "<table border=\"1\" class=\"dataframe\">\n",
              "  <thead>\n",
              "    <tr style=\"text-align: right;\">\n",
              "      <th></th>\n",
              "      <th>age</th>\n",
              "      <th>sex</th>\n",
              "      <th>cp</th>\n",
              "      <th>trestbps</th>\n",
              "      <th>chol</th>\n",
              "      <th>fbs</th>\n",
              "      <th>restecg</th>\n",
              "      <th>thalach</th>\n",
              "      <th>exang</th>\n",
              "      <th>oldpeak</th>\n",
              "      <th>slope</th>\n",
              "      <th>ca</th>\n",
              "      <th>thal</th>\n",
              "      <th>target</th>\n",
              "    </tr>\n",
              "  </thead>\n",
              "  <tbody>\n",
              "    <tr>\n",
              "      <th>count</th>\n",
              "      <td>303.000000</td>\n",
              "      <td>303.000000</td>\n",
              "      <td>303.000000</td>\n",
              "      <td>303.000000</td>\n",
              "      <td>303.000000</td>\n",
              "      <td>303.000000</td>\n",
              "      <td>303.000000</td>\n",
              "      <td>303.000000</td>\n",
              "      <td>303.000000</td>\n",
              "      <td>303.000000</td>\n",
              "      <td>303.000000</td>\n",
              "      <td>303.000000</td>\n",
              "      <td>303.000000</td>\n",
              "      <td>303.000000</td>\n",
              "    </tr>\n",
              "    <tr>\n",
              "      <th>mean</th>\n",
              "      <td>54.366337</td>\n",
              "      <td>0.683168</td>\n",
              "      <td>0.966997</td>\n",
              "      <td>131.623762</td>\n",
              "      <td>246.264026</td>\n",
              "      <td>0.148515</td>\n",
              "      <td>0.528053</td>\n",
              "      <td>149.646865</td>\n",
              "      <td>0.326733</td>\n",
              "      <td>1.039604</td>\n",
              "      <td>1.399340</td>\n",
              "      <td>0.729373</td>\n",
              "      <td>2.313531</td>\n",
              "      <td>0.544554</td>\n",
              "    </tr>\n",
              "    <tr>\n",
              "      <th>std</th>\n",
              "      <td>9.082101</td>\n",
              "      <td>0.466011</td>\n",
              "      <td>1.032052</td>\n",
              "      <td>17.538143</td>\n",
              "      <td>51.830751</td>\n",
              "      <td>0.356198</td>\n",
              "      <td>0.525860</td>\n",
              "      <td>22.905161</td>\n",
              "      <td>0.469794</td>\n",
              "      <td>1.161075</td>\n",
              "      <td>0.616226</td>\n",
              "      <td>1.022606</td>\n",
              "      <td>0.612277</td>\n",
              "      <td>0.498835</td>\n",
              "    </tr>\n",
              "    <tr>\n",
              "      <th>min</th>\n",
              "      <td>29.000000</td>\n",
              "      <td>0.000000</td>\n",
              "      <td>0.000000</td>\n",
              "      <td>94.000000</td>\n",
              "      <td>126.000000</td>\n",
              "      <td>0.000000</td>\n",
              "      <td>0.000000</td>\n",
              "      <td>71.000000</td>\n",
              "      <td>0.000000</td>\n",
              "      <td>0.000000</td>\n",
              "      <td>0.000000</td>\n",
              "      <td>0.000000</td>\n",
              "      <td>0.000000</td>\n",
              "      <td>0.000000</td>\n",
              "    </tr>\n",
              "    <tr>\n",
              "      <th>25%</th>\n",
              "      <td>47.500000</td>\n",
              "      <td>0.000000</td>\n",
              "      <td>0.000000</td>\n",
              "      <td>120.000000</td>\n",
              "      <td>211.000000</td>\n",
              "      <td>0.000000</td>\n",
              "      <td>0.000000</td>\n",
              "      <td>133.500000</td>\n",
              "      <td>0.000000</td>\n",
              "      <td>0.000000</td>\n",
              "      <td>1.000000</td>\n",
              "      <td>0.000000</td>\n",
              "      <td>2.000000</td>\n",
              "      <td>0.000000</td>\n",
              "    </tr>\n",
              "    <tr>\n",
              "      <th>50%</th>\n",
              "      <td>55.000000</td>\n",
              "      <td>1.000000</td>\n",
              "      <td>1.000000</td>\n",
              "      <td>130.000000</td>\n",
              "      <td>240.000000</td>\n",
              "      <td>0.000000</td>\n",
              "      <td>1.000000</td>\n",
              "      <td>153.000000</td>\n",
              "      <td>0.000000</td>\n",
              "      <td>0.800000</td>\n",
              "      <td>1.000000</td>\n",
              "      <td>0.000000</td>\n",
              "      <td>2.000000</td>\n",
              "      <td>1.000000</td>\n",
              "    </tr>\n",
              "    <tr>\n",
              "      <th>75%</th>\n",
              "      <td>61.000000</td>\n",
              "      <td>1.000000</td>\n",
              "      <td>2.000000</td>\n",
              "      <td>140.000000</td>\n",
              "      <td>274.500000</td>\n",
              "      <td>0.000000</td>\n",
              "      <td>1.000000</td>\n",
              "      <td>166.000000</td>\n",
              "      <td>1.000000</td>\n",
              "      <td>1.600000</td>\n",
              "      <td>2.000000</td>\n",
              "      <td>1.000000</td>\n",
              "      <td>3.000000</td>\n",
              "      <td>1.000000</td>\n",
              "    </tr>\n",
              "    <tr>\n",
              "      <th>max</th>\n",
              "      <td>77.000000</td>\n",
              "      <td>1.000000</td>\n",
              "      <td>3.000000</td>\n",
              "      <td>200.000000</td>\n",
              "      <td>564.000000</td>\n",
              "      <td>1.000000</td>\n",
              "      <td>2.000000</td>\n",
              "      <td>202.000000</td>\n",
              "      <td>1.000000</td>\n",
              "      <td>6.200000</td>\n",
              "      <td>2.000000</td>\n",
              "      <td>4.000000</td>\n",
              "      <td>3.000000</td>\n",
              "      <td>1.000000</td>\n",
              "    </tr>\n",
              "  </tbody>\n",
              "</table>\n",
              "</div>"
            ],
            "text/plain": [
              "              age         sex          cp    trestbps        chol         fbs  \\\n",
              "count  303.000000  303.000000  303.000000  303.000000  303.000000  303.000000   \n",
              "mean    54.366337    0.683168    0.966997  131.623762  246.264026    0.148515   \n",
              "std      9.082101    0.466011    1.032052   17.538143   51.830751    0.356198   \n",
              "min     29.000000    0.000000    0.000000   94.000000  126.000000    0.000000   \n",
              "25%     47.500000    0.000000    0.000000  120.000000  211.000000    0.000000   \n",
              "50%     55.000000    1.000000    1.000000  130.000000  240.000000    0.000000   \n",
              "75%     61.000000    1.000000    2.000000  140.000000  274.500000    0.000000   \n",
              "max     77.000000    1.000000    3.000000  200.000000  564.000000    1.000000   \n",
              "\n",
              "          restecg     thalach       exang     oldpeak       slope          ca  \\\n",
              "count  303.000000  303.000000  303.000000  303.000000  303.000000  303.000000   \n",
              "mean     0.528053  149.646865    0.326733    1.039604    1.399340    0.729373   \n",
              "std      0.525860   22.905161    0.469794    1.161075    0.616226    1.022606   \n",
              "min      0.000000   71.000000    0.000000    0.000000    0.000000    0.000000   \n",
              "25%      0.000000  133.500000    0.000000    0.000000    1.000000    0.000000   \n",
              "50%      1.000000  153.000000    0.000000    0.800000    1.000000    0.000000   \n",
              "75%      1.000000  166.000000    1.000000    1.600000    2.000000    1.000000   \n",
              "max      2.000000  202.000000    1.000000    6.200000    2.000000    4.000000   \n",
              "\n",
              "             thal      target  \n",
              "count  303.000000  303.000000  \n",
              "mean     2.313531    0.544554  \n",
              "std      0.612277    0.498835  \n",
              "min      0.000000    0.000000  \n",
              "25%      2.000000    0.000000  \n",
              "50%      2.000000    1.000000  \n",
              "75%      3.000000    1.000000  \n",
              "max      3.000000    1.000000  "
            ]
          },
          "execution_count": 7,
          "metadata": {},
          "output_type": "execute_result"
        }
      ],
      "source": [
        "#Nopeee!\n",
        "df.describe()"
      ]
    },
    {
      "cell_type": "code",
      "execution_count": null,
      "metadata": {
        "id": "zKiO1jfmQV0S",
        "outputId": "9423716e-1227-486b-a5fa-4611181cda39"
      },
      "outputs": [
        {
          "data": {
            "text/html": [
              "<div>\n",
              "<style scoped>\n",
              "    .dataframe tbody tr th:only-of-type {\n",
              "        vertical-align: middle;\n",
              "    }\n",
              "\n",
              "    .dataframe tbody tr th {\n",
              "        vertical-align: top;\n",
              "    }\n",
              "\n",
              "    .dataframe thead th {\n",
              "        text-align: right;\n",
              "    }\n",
              "</style>\n",
              "<table border=\"1\" class=\"dataframe\">\n",
              "  <thead>\n",
              "    <tr style=\"text-align: right;\">\n",
              "      <th>sex</th>\n",
              "      <th>0</th>\n",
              "      <th>1</th>\n",
              "    </tr>\n",
              "    <tr>\n",
              "      <th>target</th>\n",
              "      <th></th>\n",
              "      <th></th>\n",
              "    </tr>\n",
              "  </thead>\n",
              "  <tbody>\n",
              "    <tr>\n",
              "      <th>0</th>\n",
              "      <td>24</td>\n",
              "      <td>114</td>\n",
              "    </tr>\n",
              "    <tr>\n",
              "      <th>1</th>\n",
              "      <td>72</td>\n",
              "      <td>93</td>\n",
              "    </tr>\n",
              "  </tbody>\n",
              "</table>\n",
              "</div>"
            ],
            "text/plain": [
              "sex      0    1\n",
              "target         \n",
              "0       24  114\n",
              "1       72   93"
            ]
          },
          "execution_count": 8,
          "metadata": {},
          "output_type": "execute_result"
        }
      ],
      "source": [
        "pd.crosstab(df.target,df.sex)"
      ]
    },
    {
      "cell_type": "code",
      "execution_count": null,
      "metadata": {
        "id": "nnN5eXqzQV0S",
        "outputId": "ae36b609-0772-49ce-d7ac-f08d9b9f2a56"
      },
      "outputs": [
        {
          "data": {
            "text/plain": [
              "<matplotlib.legend.Legend at 0x7f835c56d070>"
            ]
          },
          "execution_count": 9,
          "metadata": {},
          "output_type": "execute_result"
        },
        {
          "data": {
            "image/png": "[encoded data removed]",
            "text/plain": [
              "<Figure size 432x288 with 1 Axes>"
            ]
          },
          "metadata": {
            "needs_background": "light"
          },
          "output_type": "display_data"
        }
      ],
      "source": [
        "pd.crosstab(df.target,df.sex).plot(kind=\"bar\",color=[\"pink\",\"black\"])\n",
        "plt.title(\"Heart-Disease Frequency for Sex\")\n",
        "plt.xlabel(\"0=No Disease,1= Heart Disease\")\n",
        "plt.ylabel(\"Number\")\n",
        "plt.legend([\"Female\",\"Male\"])"
      ]
    },
    {
      "cell_type": "markdown",
      "metadata": {
        "id": "BXYCbiVqQV0T"
      },
      "source": [
        "Just on the basis of sex we can say that there's are around 75% chance for a female to have heart disease while 50%b chance for male."
      ]
    },
    {
      "cell_type": "code",
      "execution_count": null,
      "metadata": {
        "id": "Jp_BfEChQV0T",
        "outputId": "9755017c-5758-4eb6-da6b-4a24e9e1aa4e"
      },
      "outputs": [
        {
          "data": {
            "text/plain": [
              "162    11\n",
              "163     9\n",
              "160     9\n",
              "152     8\n",
              "173     8\n",
              "       ..\n",
              "128     1\n",
              "129     1\n",
              "134     1\n",
              "137     1\n",
              "202     1\n",
              "Name: thalach, Length: 91, dtype: int64"
            ]
          },
          "execution_count": 10,
          "metadata": {},
          "output_type": "execute_result"
        }
      ],
      "source": [
        "# Exploring more features\n",
        "df[\"thalach\"].value_counts()"
      ]
    },
    {
      "cell_type": "code",
      "execution_count": null,
      "metadata": {
        "id": "3zov6FUkQV0T"
      },
      "outputs": [],
      "source": [
        "# Length 91 means 91 different values of thalach in the dataset  "
      ]
    },
    {
      "cell_type": "markdown",
      "metadata": {
        "id": "iKTQo2ZGQV0T"
      },
      "source": [
        "# Let's see Heart-rate and Age variation "
      ]
    },
    {
      "cell_type": "code",
      "execution_count": null,
      "metadata": {
        "id": "0BY--ixhQV0U",
        "outputId": "69d86272-2129-413e-866e-281708b3ab4b"
      },
      "outputs": [
        {
          "data": {
            "image/png": "[encoded data removed]",
            "text/plain": [
              "<Figure size 720x432 with 1 Axes>"
            ]
          },
          "metadata": {
            "needs_background": "light"
          },
          "output_type": "display_data"
        }
      ],
      "source": [
        "plt.figure(figsize=(10,6))\n",
        "plt.scatter(df.thalach[df.target==1],df.age[df.target==1],color=\"lightblue\")\n",
        "plt.scatter(df.thalach[df.target==0],df.age[df.target==0],color=\"pink\")\n",
        "plt.title(\"Heart-rate and Age variation\")\n",
        "plt.xlabel(\"Heart-rate\")\n",
        "plt.ylabel(\"Age\")\n",
        "plt.legend([\"Disease\",\"No Disease\"]);"
      ]
    },
    {
      "cell_type": "code",
      "execution_count": null,
      "metadata": {
        "id": "bZWmPhUfQV0U"
      },
      "outputs": [],
      "source": [
        "# There's no particular pattern in the plot that can be used for prediction "
      ]
    },
    {
      "cell_type": "markdown",
      "metadata": {
        "id": "c00ZIySuQV0V"
      },
      "source": [
        "# Let's consider one more interesting feature to relate with prediction of heart disease\n"
      ]
    },
    {
      "cell_type": "code",
      "execution_count": null,
      "metadata": {
        "id": "MvME_NoBQV0V",
        "outputId": "ae519ce5-8986-4025-e3b3-7014f027653a"
      },
      "outputs": [
        {
          "data": {
            "text/html": [
              "<div>\n",
              "<style scoped>\n",
              "    .dataframe tbody tr th:only-of-type {\n",
              "        vertical-align: middle;\n",
              "    }\n",
              "\n",
              "    .dataframe tbody tr th {\n",
              "        vertical-align: top;\n",
              "    }\n",
              "\n",
              "    .dataframe thead th {\n",
              "        text-align: right;\n",
              "    }\n",
              "</style>\n",
              "<table border=\"1\" class=\"dataframe\">\n",
              "  <thead>\n",
              "    <tr style=\"text-align: right;\">\n",
              "      <th>cp</th>\n",
              "      <th>0</th>\n",
              "      <th>1</th>\n",
              "      <th>2</th>\n",
              "      <th>3</th>\n",
              "    </tr>\n",
              "    <tr>\n",
              "      <th>target</th>\n",
              "      <th></th>\n",
              "      <th></th>\n",
              "      <th></th>\n",
              "      <th></th>\n",
              "    </tr>\n",
              "  </thead>\n",
              "  <tbody>\n",
              "    <tr>\n",
              "      <th>0</th>\n",
              "      <td>104</td>\n",
              "      <td>9</td>\n",
              "      <td>18</td>\n",
              "      <td>7</td>\n",
              "    </tr>\n",
              "    <tr>\n",
              "      <th>1</th>\n",
              "      <td>39</td>\n",
              "      <td>41</td>\n",
              "      <td>69</td>\n",
              "      <td>16</td>\n",
              "    </tr>\n",
              "  </tbody>\n",
              "</table>\n",
              "</div>"
            ],
            "text/plain": [
              "cp        0   1   2   3\n",
              "target                 \n",
              "0       104   9  18   7\n",
              "1        39  41  69  16"
            ]
          },
          "execution_count": 14,
          "metadata": {},
          "output_type": "execute_result"
        }
      ],
      "source": [
        "pd.crosstab(df.target,df.cp)\n",
        "#plt.bar(df.target,df.cp)"
      ]
    },
    {
      "cell_type": "code",
      "execution_count": null,
      "metadata": {
        "id": "sNdbyIdkQV0V",
        "outputId": "8aa04d89-1356-488e-d70b-1fd2f07ddbb8"
      },
      "outputs": [
        {
          "data": {
            "image/png": "[encoded data removed]",
            "text/plain": [
              "<Figure size 432x288 with 1 Axes>"
            ]
          },
          "metadata": {
            "needs_background": "light"
          },
          "output_type": "display_data"
        }
      ],
      "source": [
        "#Let's make it more visible\n",
        "pd.crosstab(df.cp,df.target).plot(kind=\"bar\",color=[\"lightblue\",\"salmon\"])\n",
        "plt.title(\"Chest pain type relation with disease\")\n",
        "plt.xlabel(\"Chest pain type\")\n",
        "plt.ylabel(\"Number\")\n",
        "plt.legend([\"No Disease\",\"Disease\"]);"
      ]
    },
    {
      "cell_type": "code",
      "execution_count": null,
      "metadata": {
        "id": "rUrlueKvQV0W",
        "outputId": "dde90945-0b63-498f-97ff-e7cd08fc23bf"
      },
      "outputs": [
        {
          "data": {
            "image/png": "[encoded data removed]",
            "text/plain": [
              "<Figure size 432x288 with 1 Axes>"
            ]
          },
          "metadata": {
            "needs_background": "light"
          },
          "output_type": "display_data"
        }
      ],
      "source": [
        "pd.crosstab(df.cp,df.target).plot(kind=\"bar\",color=[\"lightblue\",\"salmon\"])\n",
        "plt.title(\"Chest pain type relation with disease\")\n",
        "plt.xlabel(\"Chest pain type\")\n",
        "plt.ylabel(\"Number\")\n",
        "plt.legend([\"No Disease\",\"Disease\"])\n",
        "plt.xticks(rotation=0);"
      ]
    },
    {
      "cell_type": "code",
      "execution_count": null,
      "metadata": {
        "id": "1rIHx5pFQV0W"
      },
      "outputs": [],
      "source": [
        "# If you could see this difference \n",
        "# x-ticks"
      ]
    },
    {
      "cell_type": "code",
      "execution_count": null,
      "metadata": {
        "id": "p6I97lfYQV0W",
        "outputId": "19905496-396b-4e0e-cf01-6355e79caa63"
      },
      "outputs": [
        {
          "data": {
            "text/html": [
              "<div>\n",
              "<style scoped>\n",
              "    .dataframe tbody tr th:only-of-type {\n",
              "        vertical-align: middle;\n",
              "    }\n",
              "\n",
              "    .dataframe tbody tr th {\n",
              "        vertical-align: top;\n",
              "    }\n",
              "\n",
              "    .dataframe thead th {\n",
              "        text-align: right;\n",
              "    }\n",
              "</style>\n",
              "<table border=\"1\" class=\"dataframe\">\n",
              "  <thead>\n",
              "    <tr style=\"text-align: right;\">\n",
              "      <th></th>\n",
              "      <th>age</th>\n",
              "      <th>sex</th>\n",
              "      <th>cp</th>\n",
              "      <th>trestbps</th>\n",
              "      <th>chol</th>\n",
              "      <th>fbs</th>\n",
              "      <th>restecg</th>\n",
              "      <th>thalach</th>\n",
              "      <th>exang</th>\n",
              "      <th>oldpeak</th>\n",
              "      <th>slope</th>\n",
              "      <th>ca</th>\n",
              "      <th>thal</th>\n",
              "      <th>target</th>\n",
              "    </tr>\n",
              "  </thead>\n",
              "  <tbody>\n",
              "    <tr>\n",
              "      <th>age</th>\n",
              "      <td>1.000000</td>\n",
              "      <td>-0.098447</td>\n",
              "      <td>-0.068653</td>\n",
              "      <td>0.279351</td>\n",
              "      <td>0.213678</td>\n",
              "      <td>0.121308</td>\n",
              "      <td>-0.116211</td>\n",
              "      <td>-0.398522</td>\n",
              "      <td>0.096801</td>\n",
              "      <td>0.210013</td>\n",
              "      <td>-0.168814</td>\n",
              "      <td>0.276326</td>\n",
              "      <td>0.068001</td>\n",
              "      <td>-0.225439</td>\n",
              "    </tr>\n",
              "    <tr>\n",
              "      <th>sex</th>\n",
              "      <td>-0.098447</td>\n",
              "      <td>1.000000</td>\n",
              "      <td>-0.049353</td>\n",
              "      <td>-0.056769</td>\n",
              "      <td>-0.197912</td>\n",
              "      <td>0.045032</td>\n",
              "      <td>-0.058196</td>\n",
              "      <td>-0.044020</td>\n",
              "      <td>0.141664</td>\n",
              "      <td>0.096093</td>\n",
              "      <td>-0.030711</td>\n",
              "      <td>0.118261</td>\n",
              "      <td>0.210041</td>\n",
              "      <td>-0.280937</td>\n",
              "    </tr>\n",
              "    <tr>\n",
              "      <th>cp</th>\n",
              "      <td>-0.068653</td>\n",
              "      <td>-0.049353</td>\n",
              "      <td>1.000000</td>\n",
              "      <td>0.047608</td>\n",
              "      <td>-0.076904</td>\n",
              "      <td>0.094444</td>\n",
              "      <td>0.044421</td>\n",
              "      <td>0.295762</td>\n",
              "      <td>-0.394280</td>\n",
              "      <td>-0.149230</td>\n",
              "      <td>0.119717</td>\n",
              "      <td>-0.181053</td>\n",
              "      <td>-0.161736</td>\n",
              "      <td>0.433798</td>\n",
              "    </tr>\n",
              "    <tr>\n",
              "      <th>trestbps</th>\n",
              "      <td>0.279351</td>\n",
              "      <td>-0.056769</td>\n",
              "      <td>0.047608</td>\n",
              "      <td>1.000000</td>\n",
              "      <td>0.123174</td>\n",
              "      <td>0.177531</td>\n",
              "      <td>-0.114103</td>\n",
              "      <td>-0.046698</td>\n",
              "      <td>0.067616</td>\n",
              "      <td>0.193216</td>\n",
              "      <td>-0.121475</td>\n",
              "      <td>0.101389</td>\n",
              "      <td>0.062210</td>\n",
              "      <td>-0.144931</td>\n",
              "    </tr>\n",
              "    <tr>\n",
              "      <th>chol</th>\n",
              "      <td>0.213678</td>\n",
              "      <td>-0.197912</td>\n",
              "      <td>-0.076904</td>\n",
              "      <td>0.123174</td>\n",
              "      <td>1.000000</td>\n",
              "      <td>0.013294</td>\n",
              "      <td>-0.151040</td>\n",
              "      <td>-0.009940</td>\n",
              "      <td>0.067023</td>\n",
              "      <td>0.053952</td>\n",
              "      <td>-0.004038</td>\n",
              "      <td>0.070511</td>\n",
              "      <td>0.098803</td>\n",
              "      <td>-0.085239</td>\n",
              "    </tr>\n",
              "    <tr>\n",
              "      <th>fbs</th>\n",
              "      <td>0.121308</td>\n",
              "      <td>0.045032</td>\n",
              "      <td>0.094444</td>\n",
              "      <td>0.177531</td>\n",
              "      <td>0.013294</td>\n",
              "      <td>1.000000</td>\n",
              "      <td>-0.084189</td>\n",
              "      <td>-0.008567</td>\n",
              "      <td>0.025665</td>\n",
              "      <td>0.005747</td>\n",
              "      <td>-0.059894</td>\n",
              "      <td>0.137979</td>\n",
              "      <td>-0.032019</td>\n",
              "      <td>-0.028046</td>\n",
              "    </tr>\n",
              "    <tr>\n",
              "      <th>restecg</th>\n",
              "      <td>-0.116211</td>\n",
              "      <td>-0.058196</td>\n",
              "      <td>0.044421</td>\n",
              "      <td>-0.114103</td>\n",
              "      <td>-0.151040</td>\n",
              "      <td>-0.084189</td>\n",
              "      <td>1.000000</td>\n",
              "      <td>0.044123</td>\n",
              "      <td>-0.070733</td>\n",
              "      <td>-0.058770</td>\n",
              "      <td>0.093045</td>\n",
              "      <td>-0.072042</td>\n",
              "      <td>-0.011981</td>\n",
              "      <td>0.137230</td>\n",
              "    </tr>\n",
              "    <tr>\n",
              "      <th>thalach</th>\n",
              "      <td>-0.398522</td>\n",
              "      <td>-0.044020</td>\n",
              "      <td>0.295762</td>\n",
              "      <td>-0.046698</td>\n",
              "      <td>-0.009940</td>\n",
              "      <td>-0.008567</td>\n",
              "      <td>0.044123</td>\n",
              "      <td>1.000000</td>\n",
              "      <td>-0.378812</td>\n",
              "      <td>-0.344187</td>\n",
              "      <td>0.386784</td>\n",
              "      <td>-0.213177</td>\n",
              "      <td>-0.096439</td>\n",
              "      <td>0.421741</td>\n",
              "    </tr>\n",
              "    <tr>\n",
              "      <th>exang</th>\n",
              "      <td>0.096801</td>\n",
              "      <td>0.141664</td>\n",
              "      <td>-0.394280</td>\n",
              "      <td>0.067616</td>\n",
              "      <td>0.067023</td>\n",
              "      <td>0.025665</td>\n",
              "      <td>-0.070733</td>\n",
              "      <td>-0.378812</td>\n",
              "      <td>1.000000</td>\n",
              "      <td>0.288223</td>\n",
              "      <td>-0.257748</td>\n",
              "      <td>0.115739</td>\n",
              "      <td>0.206754</td>\n",
              "      <td>-0.436757</td>\n",
              "    </tr>\n",
              "    <tr>\n",
              "      <th>oldpeak</th>\n",
              "      <td>0.210013</td>\n",
              "      <td>0.096093</td>\n",
              "      <td>-0.149230</td>\n",
              "      <td>0.193216</td>\n",
              "      <td>0.053952</td>\n",
              "      <td>0.005747</td>\n",
              "      <td>-0.058770</td>\n",
              "      <td>-0.344187</td>\n",
              "      <td>0.288223</td>\n",
              "      <td>1.000000</td>\n",
              "      <td>-0.577537</td>\n",
              "      <td>0.222682</td>\n",
              "      <td>0.210244</td>\n",
              "      <td>-0.430696</td>\n",
              "    </tr>\n",
              "    <tr>\n",
              "      <th>slope</th>\n",
              "      <td>-0.168814</td>\n",
              "      <td>-0.030711</td>\n",
              "      <td>0.119717</td>\n",
              "      <td>-0.121475</td>\n",
              "      <td>-0.004038</td>\n",
              "      <td>-0.059894</td>\n",
              "      <td>0.093045</td>\n",
              "      <td>0.386784</td>\n",
              "      <td>-0.257748</td>\n",
              "      <td>-0.577537</td>\n",
              "      <td>1.000000</td>\n",
              "      <td>-0.080155</td>\n",
              "      <td>-0.104764</td>\n",
              "      <td>0.345877</td>\n",
              "    </tr>\n",
              "    <tr>\n",
              "      <th>ca</th>\n",
              "      <td>0.276326</td>\n",
              "      <td>0.118261</td>\n",
              "      <td>-0.181053</td>\n",
              "      <td>0.101389</td>\n",
              "      <td>0.070511</td>\n",
              "      <td>0.137979</td>\n",
              "      <td>-0.072042</td>\n",
              "      <td>-0.213177</td>\n",
              "      <td>0.115739</td>\n",
              "      <td>0.222682</td>\n",
              "      <td>-0.080155</td>\n",
              "      <td>1.000000</td>\n",
              "      <td>0.151832</td>\n",
              "      <td>-0.391724</td>\n",
              "    </tr>\n",
              "    <tr>\n",
              "      <th>thal</th>\n",
              "      <td>0.068001</td>\n",
              "      <td>0.210041</td>\n",
              "      <td>-0.161736</td>\n",
              "      <td>0.062210</td>\n",
              "      <td>0.098803</td>\n",
              "      <td>-0.032019</td>\n",
              "      <td>-0.011981</td>\n",
              "      <td>-0.096439</td>\n",
              "      <td>0.206754</td>\n",
              "      <td>0.210244</td>\n",
              "      <td>-0.104764</td>\n",
              "      <td>0.151832</td>\n",
              "      <td>1.000000</td>\n",
              "      <td>-0.344029</td>\n",
              "    </tr>\n",
              "    <tr>\n",
              "      <th>target</th>\n",
              "      <td>-0.225439</td>\n",
              "      <td>-0.280937</td>\n",
              "      <td>0.433798</td>\n",
              "      <td>-0.144931</td>\n",
              "      <td>-0.085239</td>\n",
              "      <td>-0.028046</td>\n",
              "      <td>0.137230</td>\n",
              "      <td>0.421741</td>\n",
              "      <td>-0.436757</td>\n",
              "      <td>-0.430696</td>\n",
              "      <td>0.345877</td>\n",
              "      <td>-0.391724</td>\n",
              "      <td>-0.344029</td>\n",
              "      <td>1.000000</td>\n",
              "    </tr>\n",
              "  </tbody>\n",
              "</table>\n",
              "</div>"
            ],
            "text/plain": [
              "               age       sex        cp  trestbps      chol       fbs  \\\n",
              "age       1.000000 -0.098447 -0.068653  0.279351  0.213678  0.121308   \n",
              "sex      -0.098447  1.000000 -0.049353 -0.056769 -0.197912  0.045032   \n",
              "cp       -0.068653 -0.049353  1.000000  0.047608 -0.076904  0.094444   \n",
              "trestbps  0.279351 -0.056769  0.047608  1.000000  0.123174  0.177531   \n",
              "chol      0.213678 -0.197912 -0.076904  0.123174  1.000000  0.013294   \n",
              "fbs       0.121308  0.045032  0.094444  0.177531  0.013294  1.000000   \n",
              "restecg  -0.116211 -0.058196  0.044421 -0.114103 -0.151040 -0.084189   \n",
              "thalach  -0.398522 -0.044020  0.295762 -0.046698 -0.009940 -0.008567   \n",
              "exang     0.096801  0.141664 -0.394280  0.067616  0.067023  0.025665   \n",
              "oldpeak   0.210013  0.096093 -0.149230  0.193216  0.053952  0.005747   \n",
              "slope    -0.168814 -0.030711  0.119717 -0.121475 -0.004038 -0.059894   \n",
              "ca        0.276326  0.118261 -0.181053  0.101389  0.070511  0.137979   \n",
              "thal      0.068001  0.210041 -0.161736  0.062210  0.098803 -0.032019   \n",
              "target   -0.225439 -0.280937  0.433798 -0.144931 -0.085239 -0.028046   \n",
              "\n",
              "           restecg   thalach     exang   oldpeak     slope        ca  \\\n",
              "age      -0.116211 -0.398522  0.096801  0.210013 -0.168814  0.276326   \n",
              "sex      -0.058196 -0.044020  0.141664  0.096093 -0.030711  0.118261   \n",
              "cp        0.044421  0.295762 -0.394280 -0.149230  0.119717 -0.181053   \n",
              "trestbps -0.114103 -0.046698  0.067616  0.193216 -0.121475  0.101389   \n",
              "chol     -0.151040 -0.009940  0.067023  0.053952 -0.004038  0.070511   \n",
              "fbs      -0.084189 -0.008567  0.025665  0.005747 -0.059894  0.137979   \n",
              "restecg   1.000000  0.044123 -0.070733 -0.058770  0.093045 -0.072042   \n",
              "thalach   0.044123  1.000000 -0.378812 -0.344187  0.386784 -0.213177   \n",
              "exang    -0.070733 -0.378812  1.000000  0.288223 -0.257748  0.115739   \n",
              "oldpeak  -0.058770 -0.344187  0.288223  1.000000 -0.577537  0.222682   \n",
              "slope     0.093045  0.386784 -0.257748 -0.577537  1.000000 -0.080155   \n",
              "ca       -0.072042 -0.213177  0.115739  0.222682 -0.080155  1.000000   \n",
              "thal     -0.011981 -0.096439  0.206754  0.210244 -0.104764  0.151832   \n",
              "target    0.137230  0.421741 -0.436757 -0.430696  0.345877 -0.391724   \n",
              "\n",
              "              thal    target  \n",
              "age       0.068001 -0.225439  \n",
              "sex       0.210041 -0.280937  \n",
              "cp       -0.161736  0.433798  \n",
              "trestbps  0.062210 -0.144931  \n",
              "chol      0.098803 -0.085239  \n",
              "fbs      -0.032019 -0.028046  \n",
              "restecg  -0.011981  0.137230  \n",
              "thalach  -0.096439  0.421741  \n",
              "exang     0.206754 -0.436757  \n",
              "oldpeak   0.210244 -0.430696  \n",
              "slope    -0.104764  0.345877  \n",
              "ca        0.151832 -0.391724  \n",
              "thal      1.000000 -0.344029  \n",
              "target   -0.344029  1.000000  "
            ]
          },
          "execution_count": 19,
          "metadata": {},
          "output_type": "execute_result"
        }
      ],
      "source": [
        " #Let's see the correlation \n",
        "df.corr()"
      ]
    },
    {
      "cell_type": "code",
      "execution_count": null,
      "metadata": {
        "id": "cXd47vF0QV0W",
        "outputId": "0d1cb005-551a-4f87-dc91-6288bdf2a3f1"
      },
      "outputs": [
        {
          "data": {
            "image/png": "[encoded data removed]",
            "text/plain": [
              "<Figure size 1080x720 with 2 Axes>"
            ]
          },
          "metadata": {
            "needs_background": "light"
          },
          "output_type": "display_data"
        }
      ],
      "source": [
        "# Let's make our correlation matrix better\n",
        "corr_matrix=df.corr()\n",
        "fig,ax=plt.subplots(figsize=(15,10))\n",
        "ax = sns.heatmap(corr_matrix,\n",
        "                 annot=True,\n",
        "                 linewidths=0.5,\n",
        "                 fmt=\".2f\")\n"
      ]
    },
    {
      "cell_type": "markdown",
      "metadata": {
        "id": "I1ieWI21QV0X"
      },
      "source": [
        "## Preparing our model for evaluation\n"
      ]
    },
    {
      "cell_type": "code",
      "execution_count": null,
      "metadata": {
        "id": "nKiMa_ecQV0X"
      },
      "outputs": [],
      "source": [
        "X=df.drop(\"target\",axis=1)\n",
        "Y=df[\"target\"]\n",
        "np.random.seed(40)\n",
        "X_train,X_test,Y_train,Y_test=train_test_split(X,Y,test_size=0.2)"
      ]
    },
    {
      "cell_type": "code",
      "execution_count": null,
      "metadata": {
        "id": "bFQIZx68QV0X",
        "outputId": "2aadf47f-3de7-437a-9ebd-3cb9ecf164c6"
      },
      "outputs": [
        {
          "data": {
            "text/html": [
              "<div>\n",
              "<style scoped>\n",
              "    .dataframe tbody tr th:only-of-type {\n",
              "        vertical-align: middle;\n",
              "    }\n",
              "\n",
              "    .dataframe tbody tr th {\n",
              "        vertical-align: top;\n",
              "    }\n",
              "\n",
              "    .dataframe thead th {\n",
              "        text-align: right;\n",
              "    }\n",
              "</style>\n",
              "<table border=\"1\" class=\"dataframe\">\n",
              "  <thead>\n",
              "    <tr style=\"text-align: right;\">\n",
              "      <th></th>\n",
              "      <th>age</th>\n",
              "      <th>sex</th>\n",
              "      <th>cp</th>\n",
              "      <th>trestbps</th>\n",
              "      <th>chol</th>\n",
              "      <th>fbs</th>\n",
              "      <th>restecg</th>\n",
              "      <th>thalach</th>\n",
              "      <th>exang</th>\n",
              "      <th>oldpeak</th>\n",
              "      <th>slope</th>\n",
              "      <th>ca</th>\n",
              "      <th>thal</th>\n",
              "    </tr>\n",
              "  </thead>\n",
              "  <tbody>\n",
              "    <tr>\n",
              "      <th>69</th>\n",
              "      <td>62</td>\n",
              "      <td>0</td>\n",
              "      <td>0</td>\n",
              "      <td>124</td>\n",
              "      <td>209</td>\n",
              "      <td>0</td>\n",
              "      <td>1</td>\n",
              "      <td>163</td>\n",
              "      <td>0</td>\n",
              "      <td>0.0</td>\n",
              "      <td>2</td>\n",
              "      <td>0</td>\n",
              "      <td>2</td>\n",
              "    </tr>\n",
              "    <tr>\n",
              "      <th>118</th>\n",
              "      <td>46</td>\n",
              "      <td>0</td>\n",
              "      <td>1</td>\n",
              "      <td>105</td>\n",
              "      <td>204</td>\n",
              "      <td>0</td>\n",
              "      <td>1</td>\n",
              "      <td>172</td>\n",
              "      <td>0</td>\n",
              "      <td>0.0</td>\n",
              "      <td>2</td>\n",
              "      <td>0</td>\n",
              "      <td>2</td>\n",
              "    </tr>\n",
              "    <tr>\n",
              "      <th>49</th>\n",
              "      <td>53</td>\n",
              "      <td>0</td>\n",
              "      <td>0</td>\n",
              "      <td>138</td>\n",
              "      <td>234</td>\n",
              "      <td>0</td>\n",
              "      <td>0</td>\n",
              "      <td>160</td>\n",
              "      <td>0</td>\n",
              "      <td>0.0</td>\n",
              "      <td>2</td>\n",
              "      <td>0</td>\n",
              "      <td>2</td>\n",
              "    </tr>\n",
              "    <tr>\n",
              "      <th>16</th>\n",
              "      <td>58</td>\n",
              "      <td>0</td>\n",
              "      <td>2</td>\n",
              "      <td>120</td>\n",
              "      <td>340</td>\n",
              "      <td>0</td>\n",
              "      <td>1</td>\n",
              "      <td>172</td>\n",
              "      <td>0</td>\n",
              "      <td>0.0</td>\n",
              "      <td>2</td>\n",
              "      <td>0</td>\n",
              "      <td>2</td>\n",
              "    </tr>\n",
              "    <tr>\n",
              "      <th>54</th>\n",
              "      <td>63</td>\n",
              "      <td>0</td>\n",
              "      <td>2</td>\n",
              "      <td>135</td>\n",
              "      <td>252</td>\n",
              "      <td>0</td>\n",
              "      <td>0</td>\n",
              "      <td>172</td>\n",
              "      <td>0</td>\n",
              "      <td>0.0</td>\n",
              "      <td>2</td>\n",
              "      <td>0</td>\n",
              "      <td>2</td>\n",
              "    </tr>\n",
              "    <tr>\n",
              "      <th>...</th>\n",
              "      <td>...</td>\n",
              "      <td>...</td>\n",
              "      <td>...</td>\n",
              "      <td>...</td>\n",
              "      <td>...</td>\n",
              "      <td>...</td>\n",
              "      <td>...</td>\n",
              "      <td>...</td>\n",
              "      <td>...</td>\n",
              "      <td>...</td>\n",
              "      <td>...</td>\n",
              "      <td>...</td>\n",
              "      <td>...</td>\n",
              "    </tr>\n",
              "    <tr>\n",
              "      <th>268</th>\n",
              "      <td>54</td>\n",
              "      <td>1</td>\n",
              "      <td>0</td>\n",
              "      <td>122</td>\n",
              "      <td>286</td>\n",
              "      <td>0</td>\n",
              "      <td>0</td>\n",
              "      <td>116</td>\n",
              "      <td>1</td>\n",
              "      <td>3.2</td>\n",
              "      <td>1</td>\n",
              "      <td>2</td>\n",
              "      <td>2</td>\n",
              "    </tr>\n",
              "    <tr>\n",
              "      <th>193</th>\n",
              "      <td>60</td>\n",
              "      <td>1</td>\n",
              "      <td>0</td>\n",
              "      <td>145</td>\n",
              "      <td>282</td>\n",
              "      <td>0</td>\n",
              "      <td>0</td>\n",
              "      <td>142</td>\n",
              "      <td>1</td>\n",
              "      <td>2.8</td>\n",
              "      <td>1</td>\n",
              "      <td>2</td>\n",
              "      <td>3</td>\n",
              "    </tr>\n",
              "    <tr>\n",
              "      <th>165</th>\n",
              "      <td>67</td>\n",
              "      <td>1</td>\n",
              "      <td>0</td>\n",
              "      <td>160</td>\n",
              "      <td>286</td>\n",
              "      <td>0</td>\n",
              "      <td>0</td>\n",
              "      <td>108</td>\n",
              "      <td>1</td>\n",
              "      <td>1.5</td>\n",
              "      <td>1</td>\n",
              "      <td>3</td>\n",
              "      <td>2</td>\n",
              "    </tr>\n",
              "    <tr>\n",
              "      <th>7</th>\n",
              "      <td>44</td>\n",
              "      <td>1</td>\n",
              "      <td>1</td>\n",
              "      <td>120</td>\n",
              "      <td>263</td>\n",
              "      <td>0</td>\n",
              "      <td>1</td>\n",
              "      <td>173</td>\n",
              "      <td>0</td>\n",
              "      <td>0.0</td>\n",
              "      <td>2</td>\n",
              "      <td>0</td>\n",
              "      <td>3</td>\n",
              "    </tr>\n",
              "    <tr>\n",
              "      <th>219</th>\n",
              "      <td>48</td>\n",
              "      <td>1</td>\n",
              "      <td>0</td>\n",
              "      <td>130</td>\n",
              "      <td>256</td>\n",
              "      <td>1</td>\n",
              "      <td>0</td>\n",
              "      <td>150</td>\n",
              "      <td>1</td>\n",
              "      <td>0.0</td>\n",
              "      <td>2</td>\n",
              "      <td>2</td>\n",
              "      <td>3</td>\n",
              "    </tr>\n",
              "  </tbody>\n",
              "</table>\n",
              "<p>242 rows × 13 columns</p>\n",
              "</div>"
            ],
            "text/plain": [
              "     age  sex  cp  trestbps  chol  fbs  restecg  thalach  exang  oldpeak  \\\n",
              "69    62    0   0       124   209    0        1      163      0      0.0   \n",
              "118   46    0   1       105   204    0        1      172      0      0.0   \n",
              "49    53    0   0       138   234    0        0      160      0      0.0   \n",
              "16    58    0   2       120   340    0        1      172      0      0.0   \n",
              "54    63    0   2       135   252    0        0      172      0      0.0   \n",
              "..   ...  ...  ..       ...   ...  ...      ...      ...    ...      ...   \n",
              "268   54    1   0       122   286    0        0      116      1      3.2   \n",
              "193   60    1   0       145   282    0        0      142      1      2.8   \n",
              "165   67    1   0       160   286    0        0      108      1      1.5   \n",
              "7     44    1   1       120   263    0        1      173      0      0.0   \n",
              "219   48    1   0       130   256    1        0      150      1      0.0   \n",
              "\n",
              "     slope  ca  thal  \n",
              "69       2   0     2  \n",
              "118      2   0     2  \n",
              "49       2   0     2  \n",
              "16       2   0     2  \n",
              "54       2   0     2  \n",
              "..     ...  ..   ...  \n",
              "268      1   2     2  \n",
              "193      1   2     3  \n",
              "165      1   3     2  \n",
              "7        2   0     3  \n",
              "219      2   2     3  \n",
              "\n",
              "[242 rows x 13 columns]"
            ]
          },
          "execution_count": 37,
          "metadata": {},
          "output_type": "execute_result"
        }
      ],
      "source": [
        "X_train"
      ]
    },
    {
      "cell_type": "code",
      "execution_count": null,
      "metadata": {
        "id": "5CRsW052QV0X",
        "outputId": "a40c6882-15c0-487a-acad-4c5196013dab"
      },
      "outputs": [
        {
          "data": {
            "text/plain": [
              "242"
            ]
          },
          "execution_count": 38,
          "metadata": {},
          "output_type": "execute_result"
        }
      ],
      "source": [
        "len(Y_train)"
      ]
    },
    {
      "cell_type": "markdown",
      "metadata": {
        "id": "hJrbrnsOQV0Y"
      },
      "source": [
        "We have split the data in train and test and will use train data to find pattern and test data to use the pattern\n",
        "> We are going to try 3 different models:\n",
        " 1. Logistic Regression (Daniel found it out from search)\n",
        " 2. K-Nearest Neighbour Classifier\n",
        " 3. Random Forest Classifier\n",
        "> Last two from the Scikit-learn-model-map"
      ]
    },
    {
      "cell_type": "code",
      "execution_count": null,
      "metadata": {
        "id": "SOaCnEltQV0Y"
      },
      "outputs": [],
      "source": [
        "# Putting models in dictionary\n",
        "models={\"Logistic Regression\": LogisticRegression(),\n",
        "        \"Nearest Neighbor\": KNeighborsClassifier(),\n",
        "        \"Random Forest\": RandomForestClassifier()}\n",
        "# Now creating a function to fit and score models\n",
        "def fit_and_score(models,X_train,Y_train,X_test,Y_test):\n",
        "    \"\"\"Arguments- models is a dictionary conatining models and train and test data\n",
        "     \"\"\"\n",
        "    np.random.seed(40)\n",
        " # empty dictionary to score model score\n",
        "    model_score={}\n",
        " # name is key and model is value\n",
        "    for name,model in models.items():\n",
        "      model.fit(X_train,Y_train)\n",
        "      model_score[name]=model.score(X_test,Y_test)\n",
        "    return model_score\n",
        " "
      ]
    },
    {
      "cell_type": "code",
      "execution_count": null,
      "metadata": {
        "id": "yHGeeuhKQV0Y",
        "outputId": "6413f449-e041-488f-af3f-8b85ede63314"
      },
      "outputs": [
        {
          "name": "stderr",
          "output_type": "stream",
          "text": [
            "/home/guest/Desktop/new_project/env/lib/python3.8/site-packages/sklearn/linear_model/_logistic.py:762: ConvergenceWarning: lbfgs failed to converge (status=1):\n",
            "STOP: TOTAL NO. of ITERATIONS REACHED LIMIT.\n",
            "\n",
            "Increase the number of iterations (max_iter) or scale the data as shown in:\n",
            "    https://scikit-learn.org/stable/modules/preprocessing.html\n",
            "Please also refer to the documentation for alternative solver options:\n",
            "    https://scikit-learn.org/stable/modules/linear_model.html#logistic-regression\n",
            "  n_iter_i = _check_optimize_result(\n"
          ]
        },
        {
          "data": {
            "text/plain": [
              "{'Logistic Regression': 0.9016393442622951,\n",
              " 'Nearest Neighbor': 0.7049180327868853,\n",
              " 'Random Forest': 0.8360655737704918}"
            ]
          },
          "execution_count": 57,
          "metadata": {},
          "output_type": "execute_result"
        }
      ],
      "source": [
        "model_score=fit_and_score(models,X_train,Y_train,X_test,Y_test)\n",
        "model_score"
      ]
    },
    {
      "cell_type": "markdown",
      "metadata": {
        "id": "GALJNHd-QV0Y"
      },
      "source": [
        "## Model comparison"
      ]
    },
    {
      "cell_type": "code",
      "execution_count": null,
      "metadata": {
        "id": "flUMDmchQV0Y",
        "outputId": "cd88ae83-ab09-4976-cda9-e7c54dba2dab"
      },
      "outputs": [
        {
          "data": {
            "text/plain": [
              "<AxesSubplot:>"
            ]
          },
          "execution_count": 62,
          "metadata": {},
          "output_type": "execute_result"
        },
        {
          "data": {
            "image/png": "[encoded data removed]",
            "text/plain": [
              "<Figure size 432x288 with 1 Axes>"
            ]
          },
          "metadata": {
            "needs_background": "light"
          },
          "output_type": "display_data"
        }
      ],
      "source": [
        "model_compare=pd.DataFrame(model_score,index=[\"Accuracy\"])\n",
        "model_compare.T.plot.bar()"
      ]
    },
    {
      "cell_type": "code",
      "execution_count": null,
      "metadata": {
        "id": "I8tXGq2_QV0Z"
      },
      "outputs": [],
      "source": [
        "# Clearly visible Logistics regression is more accurate.\n",
        "# As we said we want atleast 95% accuracy .\n",
        "# Let's move on."
      ]
    },
    {
      "cell_type": "markdown",
      "metadata": {
        "id": "mW98VI5ZQV0Z"
      },
      "source": [
        "# Now we need to improve our model \n",
        "These are the things we are going to do:\n",
        "1. Hyperparameter tuning\n",
        "2. Important features\n",
        "3. Confusion matrix\n",
        "4. Cross validation\n",
        "5. Recall\n",
        "6. Precision\n",
        "7. F1_score\n",
        "8. Classification_report\n",
        "9. ROC curve\n",
        "10. Area under the curve (AUC)\n",
        "## Hyperparameter tuning"
      ]
    },
    {
      "cell_type": "code",
      "execution_count": null,
      "metadata": {
        "id": "LnFGQyUpQV0Z"
      },
      "outputs": [],
      "source": [
        "# Let's try to improve KNeighbor model using hyperparameter tuning\n",
        "# Empty list for storing score corresponding to diff parameter values\n",
        "train_score=[]\n",
        "test_score=[]\n",
        "# after a reasearch we are going to tune n_neighbor\n",
        "neighbor=range(1,21)\n",
        "knn=KNeighborsClassifier()\n",
        "# for loop to try all values\n",
        "for i in neighbor:\n",
        "    knn.set_params(n_neighbors=i)\n",
        "    knn.fit(X_train,Y_train)\n",
        "    train_score.append(knn.score(X_train,Y_train))\n",
        "    test_score.append(knn.score(X_test,Y_test))"
      ]
    },
    {
      "cell_type": "code",
      "execution_count": null,
      "metadata": {
        "id": "SIKZ0ZgdQV0Z",
        "outputId": "ec1a70f7-8d76-46b2-b276-3159d272f75a"
      },
      "outputs": [
        {
          "data": {
            "text/plain": [
              "[1.0,\n",
              " 0.7975206611570248,\n",
              " 0.7892561983471075,\n",
              " 0.7768595041322314,\n",
              " 0.768595041322314,\n",
              " 0.7603305785123967,\n",
              " 0.7396694214876033,\n",
              " 0.7148760330578512,\n",
              " 0.7024793388429752,\n",
              " 0.7024793388429752,\n",
              " 0.7148760330578512,\n",
              " 0.6983471074380165,\n",
              " 0.7024793388429752,\n",
              " 0.7024793388429752,\n",
              " 0.6900826446280992,\n",
              " 0.7148760330578512,\n",
              " 0.7148760330578512,\n",
              " 0.71900826446281,\n",
              " 0.7148760330578512,\n",
              " 0.7107438016528925]"
            ]
          },
          "execution_count": 68,
          "metadata": {},
          "output_type": "execute_result"
        }
      ],
      "source": [
        "train_score"
      ]
    },
    {
      "cell_type": "code",
      "execution_count": null,
      "metadata": {
        "id": "XDa7vmZJQV0a",
        "outputId": "c93e4749-d6b2-47ae-edb5-27b5504e8298"
      },
      "outputs": [
        {
          "data": {
            "text/plain": [
              "[0.6229508196721312,\n",
              " 0.5901639344262295,\n",
              " 0.7049180327868853,\n",
              " 0.5737704918032787,\n",
              " 0.7049180327868853,\n",
              " 0.6557377049180327,\n",
              " 0.6721311475409836,\n",
              " 0.6557377049180327,\n",
              " 0.6557377049180327,\n",
              " 0.6885245901639344,\n",
              " 0.6721311475409836,\n",
              " 0.6885245901639344,\n",
              " 0.7049180327868853,\n",
              " 0.6885245901639344,\n",
              " 0.6229508196721312,\n",
              " 0.6721311475409836,\n",
              " 0.6229508196721312,\n",
              " 0.639344262295082,\n",
              " 0.6885245901639344,\n",
              " 0.6885245901639344]"
            ]
          },
          "execution_count": 69,
          "metadata": {},
          "output_type": "execute_result"
        }
      ],
      "source": [
        "test_score"
      ]
    },
    {
      "cell_type": "code",
      "execution_count": null,
      "metadata": {
        "id": "mu6ZKd1iQV0a",
        "outputId": "e745037e-1ce1-40e1-b3d2-c98a64429679"
      },
      "outputs": [
        {
          "name": "stdout",
          "output_type": "stream",
          "text": [
            "The maximum accuuracy achieved using KNN model is 70.49 %\n"
          ]
        },
        {
          "data": {
            "image/png": "[encoded data removed]",
            "text/plain": [
              "<Figure size 432x288 with 1 Axes>"
            ]
          },
          "metadata": {
            "needs_background": "light"
          },
          "output_type": "display_data"
        }
      ],
      "source": [
        "# For Better understanding\n",
        "plt.plot(neighbor,train_score)\n",
        "plt.plot(neighbor,test_score)\n",
        "plt.title(\"Score Vs No. of neighbors\")\n",
        "plt.legend([\"Train Score\",\"Test Score\"])\n",
        "print(f\"The maximum accuuracy achieved using KNN model is {max(test_score)*100:.2f} %\")"
      ]
    },
    {
      "cell_type": "markdown",
      "metadata": {
        "id": "he0t2Wr1QV0a"
      },
      "source": [
        "Now we should move to hypertuning uisng RandomizedSearchCV and GridSearchCV that will itself search for best hyperparameters and we don't have to manually run the loops"
      ]
    },
    {
      "cell_type": "markdown",
      "metadata": {
        "id": "dZwIF4L9QV0b"
      },
      "source": [
        "# Hyperparameter tuning using RandomizedSearchCV\n",
        "\n",
        " 1. LogisticsRegression()\n",
        " 2. RandomForestClassifier()\n",
        "\n",
        "\n",
        "\n",
        "\n",
        "\n",
        "\n",
        "\n",
        "\n",
        "\n",
        "\n",
        "\n",
        "\n",
        "\n",
        "\n",
        "\n",
        "\n",
        "\n",
        "\n",
        "\n",
        "\n",
        "\n",
        "\n",
        "\n"
      ]
    },
    {
      "cell_type": "code",
      "execution_count": null,
      "metadata": {
        "id": "tHkyt3Z4QV0b"
      },
      "outputs": [],
      "source": [
        "# Need to search a lotttt and then you will be able to workout\n",
        "# Creating grid of parametersto be tuned for Logistics and Random Forest models\n",
        "Log_grid={\"C\":np.logspace(-4,4,20),\n",
        "          \"solver\":[\"liblinear\"]}\n",
        "Random_grid={\"n_estimators\":np.arange(10,1000,50),\n",
        "            \"max_depth\":[None,3,5,10],\n",
        "             \"max_features\":[\"sqrt\",\"log2\"],\n",
        "             \"min_samples_split\":np.arange(2,10,20),\n",
        "            \"min_samples_leaf\":np.arange(1,10,10)}"
      ]
    },
    {
      "cell_type": "code",
      "execution_count": null,
      "metadata": {
        "id": "28Z3A_TjQV0b"
      },
      "outputs": [],
      "source": [
        "np.random.seed(40\n",
        "              )\n",
        "rs_log_reg=RandomizedSearchCV(estimator=LogisticRegression(),\n",
        "                              param_distributions=Log_grid,\n",
        "                              cv=5,\n",
        "                              n_iter=20,\n",
        "                              verbose=True)"
      ]
    },
    {
      "cell_type": "code",
      "execution_count": null,
      "metadata": {
        "id": "3vlwXWpbQV0b",
        "outputId": "08725798-e6c6-4bfc-a8c3-b847d9e2d064"
      },
      "outputs": [
        {
          "name": "stdout",
          "output_type": "stream",
          "text": [
            "Fitting 5 folds for each of 20 candidates, totalling 100 fits\n"
          ]
        },
        {
          "name": "stderr",
          "output_type": "stream",
          "text": [
            "[Parallel(n_jobs=1)]: Using backend SequentialBackend with 1 concurrent workers.\n",
            "[Parallel(n_jobs=1)]: Done 100 out of 100 | elapsed:    1.3s finished\n"
          ]
        },
        {
          "data": {
            "text/plain": [
              "0.9016393442622951"
            ]
          },
          "execution_count": 114,
          "metadata": {},
          "output_type": "execute_result"
        }
      ],
      "source": [
        "rs_log_reg.fit(X_train,Y_train)\n",
        "rs_log_reg.score(X_test,Y_test)"
      ]
    },
    {
      "cell_type": "code",
      "execution_count": null,
      "metadata": {
        "id": "D-KxPeMOQV0c",
        "outputId": "b4cb29fb-d3a6-4b8e-fa1e-ecea8fbd1f3a"
      },
      "outputs": [
        {
          "data": {
            "text/plain": [
              "{'solver': 'liblinear', 'C': 0.615848211066026}"
            ]
          },
          "execution_count": 116,
          "metadata": {},
          "output_type": "execute_result"
        }
      ],
      "source": [
        "#Let's find the best paramters for the data\n",
        "rs_log_reg.best_params_"
      ]
    },
    {
      "cell_type": "code",
      "execution_count": null,
      "metadata": {
        "id": "iYZbq-WUQV0c"
      },
      "outputs": [],
      "source": [
        "## Let's hypertune RandomForestClassifier model\n",
        "np.random.seed(40)\n",
        "rs_random_forest=RandomizedSearchCV(estimator=RandomForestClassifier(),\n",
        "                                    param_distributions=Random_grid,\n",
        "                                    cv=5,\n",
        "                                    verbose=True,\n",
        "                                     n_iter=20)"
      ]
    },
    {
      "cell_type": "code",
      "execution_count": null,
      "metadata": {
        "id": "8z07ytTPQV0c",
        "outputId": "8ed064b7-8f83-489f-acaa-a979fbf32d70"
      },
      "outputs": [
        {
          "name": "stdout",
          "output_type": "stream",
          "text": [
            "Fitting 5 folds for each of 20 candidates, totalling 100 fits\n"
          ]
        },
        {
          "name": "stderr",
          "output_type": "stream",
          "text": [
            "[Parallel(n_jobs=1)]: Using backend SequentialBackend with 1 concurrent workers.\n",
            "[Parallel(n_jobs=1)]: Done 100 out of 100 | elapsed:  1.5min finished\n"
          ]
        },
        {
          "data": {
            "text/plain": [
              "0.8688524590163934"
            ]
          },
          "execution_count": 118,
          "metadata": {},
          "output_type": "execute_result"
        }
      ],
      "source": [
        "rs_random_forest.fit(X_train,Y_train)\n",
        "rs_random_forest.score(X_test,Y_test)"
      ]
    },
    {
      "cell_type": "code",
      "execution_count": null,
      "metadata": {
        "id": "OU0uA-yJQV0d",
        "outputId": "f492a843-3500-4655-9006-cce63d577505"
      },
      "outputs": [
        {
          "data": {
            "text/plain": [
              "{'n_estimators': 260,\n",
              " 'min_samples_split': 2,\n",
              " 'min_samples_leaf': 1,\n",
              " 'max_features': 'log2',\n",
              " 'max_depth': 3}"
            ]
          },
          "execution_count": 120,
          "metadata": {},
          "output_type": "execute_result"
        }
      ],
      "source": [
        "# Here we can see the improvement in the score of the model\n",
        "# Getting best parameters \n",
        "rs_random_forest.best_params_"
      ]
    },
    {
      "cell_type": "code",
      "execution_count": null,
      "metadata": {
        "id": "YSSAqGVIQV0d"
      },
      "outputs": [],
      "source": [
        "# above combination of parameters gives better result"
      ]
    },
    {
      "cell_type": "code",
      "execution_count": null,
      "metadata": {
        "id": "AS_mmWduQV0d",
        "outputId": "1265bd3e-a1e7-444d-8bcf-a467b39206ba"
      },
      "outputs": [
        {
          "data": {
            "text/plain": [
              "{'Logistic Regression': 0.9016393442622951,\n",
              " 'Nearest Neighbor': 0.7049180327868853,\n",
              " 'Random Forest': 0.8360655737704918}"
            ]
          },
          "execution_count": 122,
          "metadata": {},
          "output_type": "execute_result"
        }
      ],
      "source": [
        "model_score"
      ]
    },
    {
      "cell_type": "code",
      "execution_count": null,
      "metadata": {
        "id": "Hpl1SVq3QV0d"
      },
      "outputs": [],
      "source": [
        "# And here we can see Logistic Regression model is still better than RandomForestClassifier"
      ]
    },
    {
      "cell_type": "markdown",
      "metadata": {
        "id": "c3nd8wc5QV0d"
      },
      "source": [
        "## And here's the time to use GridSearchCV\n",
        "> We are going to work on LogisticRegression model now as it's the best among three"
      ]
    },
    {
      "cell_type": "code",
      "execution_count": null,
      "metadata": {
        "id": "OCiHPQZuQV0e",
        "outputId": "8f019fbe-457f-402e-e3ae-18c1637b47cd"
      },
      "outputs": [
        {
          "name": "stdout",
          "output_type": "stream",
          "text": [
            "Fitting 5 folds for each of 30 candidates, totalling 150 fits\n"
          ]
        },
        {
          "name": "stderr",
          "output_type": "stream",
          "text": [
            "[Parallel(n_jobs=1)]: Using backend SequentialBackend with 1 concurrent workers.\n",
            "[Parallel(n_jobs=1)]: Done 150 out of 150 | elapsed:    0.9s finished\n"
          ]
        },
        {
          "data": {
            "text/plain": [
              "0.9016393442622951"
            ]
          },
          "execution_count": 128,
          "metadata": {},
          "output_type": "execute_result"
        }
      ],
      "source": [
        "# We need grid for logistic model (will use the previous) and rewriting for completeness only\n",
        "Log_grid={\"C\":np.logspace(-4,4,30),\n",
        "          \"solver\":[\"liblinear\"]}\n",
        "gs_log_reg=GridSearchCV(estimator=LogisticRegression(),\n",
        "                        param_grid=Log_grid,\n",
        "                        verbose=True,\n",
        "                        cv=5)\n",
        "gs_log_reg.fit(X_train,Y_train)\n",
        "gs_log_reg.score(X_test,Y_test)"
      ]
    },
    {
      "cell_type": "code",
      "execution_count": null,
      "metadata": {
        "id": "3ub8Evy2QV0e"
      },
      "outputs": [],
      "source": [
        "# And Look the score after Randomised and Grid SearchCV the result is same for LOgisticRegression\n",
        "# But the best parameters are different can be observed"
      ]
    },
    {
      "cell_type": "code",
      "execution_count": null,
      "metadata": {
        "id": "iMJRgC8JQV0e",
        "outputId": "3550f5b8-9620-4e2d-bff5-a1f4d7de86a7"
      },
      "outputs": [
        {
          "data": {
            "text/plain": [
              "({'C': 0.1082636733874054, 'solver': 'liblinear'},\n",
              " {'solver': 'liblinear', 'C': 0.615848211066026})"
            ]
          },
          "execution_count": 130,
          "metadata": {},
          "output_type": "execute_result"
        }
      ],
      "source": [
        "gs_log_reg.best_params_,rs_log_reg.best_params_"
      ]
    },
    {
      "cell_type": "markdown",
      "metadata": {
        "id": "MR2l6bh1QV0f"
      },
      "source": [
        "## Hypertuning is done now."
      ]
    },
    {
      "cell_type": "markdown",
      "metadata": {
        "id": "QY-WUGy3QV0f"
      },
      "source": [
        "# Let's evaluate our tuned machine lerning classifier beyond accuracy!\n",
        " * ROC curve\n",
        " * Confusion_matrix\n",
        " * Precison\n",
        " * Recall\n",
        " * F1_score\n",
        " * Classification_report\n",
        " \n",
        " and it would be better if we use cross-validation wherever possible"
      ]
    },
    {
      "cell_type": "code",
      "execution_count": null,
      "metadata": {
        "id": "6cLmldEpQV0f",
        "outputId": "240f901c-d3ac-47d1-b267-d2af1bd9eda6"
      },
      "outputs": [
        {
          "data": {
            "text/plain": [
              "array([1, 1, 1, 0, 1, 1, 1, 0, 0, 1, 0, 1, 1, 0, 0, 1, 1, 1, 1, 0, 1, 1,\n",
              "       1, 1, 0, 1, 0, 1, 1, 1, 1, 0, 0, 1, 1, 1, 0, 0, 0, 1, 1, 1, 1, 0,\n",
              "       1, 1, 1, 0, 0, 0, 1, 1, 1, 0, 1, 1, 0, 1, 0, 0, 1])"
            ]
          },
          "execution_count": 132,
          "metadata": {},
          "output_type": "execute_result"
        }
      ],
      "source": [
        "# We need to make predictions to comapre and evaluate our model\n",
        "Y_pred=gs_log_reg.predict(X_test)\n",
        "Y_pred"
      ]
    },
    {
      "cell_type": "code",
      "execution_count": null,
      "metadata": {
        "id": "7sDmVn2EQV0f",
        "outputId": "dae6b457-731a-4211-8ada-3dc9d5530657"
      },
      "outputs": [
        {
          "data": {
            "text/plain": [
              "<sklearn.metrics._plot.roc_curve.RocCurveDisplay at 0x7f831d0a67f0>"
            ]
          },
          "execution_count": 134,
          "metadata": {},
          "output_type": "execute_result"
        },
        {
          "data": {
            "image/png": "[encoded data removed]",
            "text/plain": [
              "<Figure size 432x288 with 1 Axes>"
            ]
          },
          "metadata": {
            "needs_background": "light"
          },
          "output_type": "display_data"
        }
      ],
      "source": [
        "# Ploting ROC curve and area under the curve\n",
        "plot_roc_curve(gs_log_reg,X_test,Y_test)"
      ]
    },
    {
      "cell_type": "code",
      "execution_count": null,
      "metadata": {
        "id": "FRXE9CaCQV0g",
        "outputId": "e61d136d-918d-44f6-a4aa-19820f57f96d"
      },
      "outputs": [
        {
          "data": {
            "text/plain": [
              "Text(42.0, 0.5, 'Predicted Label')"
            ]
          },
          "execution_count": 139,
          "metadata": {},
          "output_type": "execute_result"
        },
        {
          "data": {
            "image/png": "[encoded data removed]",
            "text/plain": [
              "<Figure size 504x504 with 2 Axes>"
            ]
          },
          "metadata": {
            "needs_background": "light"
          },
          "output_type": "display_data"
        }
      ],
      "source": [
        "fig,ax=plt.subplots(figsize=(7,7))\n",
        "ax=sns.heatmap(confusion_matrix(Y_test,Y_pred),\n",
        "            annot=True\n",
        "           )\n",
        "plt.xlabel(\"True Label\")\n",
        "plt.ylabel(\"Predicted Label\")"
      ]
    },
    {
      "cell_type": "markdown",
      "metadata": {
        "id": "eyX3xHo8QV0g"
      },
      "source": [
        "## For classification report as well as cross-validated precision ,recall and f1_score"
      ]
    },
    {
      "cell_type": "code",
      "execution_count": null,
      "metadata": {
        "id": "Hym0p9-5QV0g",
        "outputId": "d67c6ae3-eece-47a1-a118-9d7ce3bb5dfc"
      },
      "outputs": [
        {
          "name": "stdout",
          "output_type": "stream",
          "text": [
            "              precision    recall  f1-score   support\n",
            "\n",
            "           0       0.95      0.81      0.88        26\n",
            "           1       0.87      0.97      0.92        35\n",
            "\n",
            "    accuracy                           0.90        61\n",
            "   macro avg       0.91      0.89      0.90        61\n",
            "weighted avg       0.91      0.90      0.90        61\n",
            "\n"
          ]
        }
      ],
      "source": [
        "print(classification_report(Y_test,Y_pred))"
      ]
    },
    {
      "cell_type": "markdown",
      "metadata": {
        "id": "S2Rvw1rVQV0h"
      },
      "source": [
        "## Now we will use cross-validation and evaluate the tuned model using cross_val_score"
      ]
    },
    {
      "cell_type": "code",
      "execution_count": null,
      "metadata": {
        "id": "Qz9KB3-pQV0h"
      },
      "outputs": [],
      "source": [
        "clf=LogisticRegression(C=0.1082636733874054,solver=\"liblinear\")"
      ]
    },
    {
      "cell_type": "code",
      "execution_count": null,
      "metadata": {
        "id": "_M4ucg7CQV0h",
        "outputId": "3dad6081-8fa4-456a-a27f-6ba51649f486"
      },
      "outputs": [
        {
          "data": {
            "text/plain": [
              "0.834808743169399"
            ]
          },
          "execution_count": 149,
          "metadata": {},
          "output_type": "execute_result"
        }
      ],
      "source": [
        "cross_acc=cross_val_score(clf,X,Y,cv=5,scoring=\"accuracy\")\n",
        "cross_acc=np.mean(cross_acc)\n",
        "cross_acc"
      ]
    },
    {
      "cell_type": "code",
      "execution_count": null,
      "metadata": {
        "id": "JB9T_oyRQV0i",
        "outputId": "9ea45b1f-3810-4620-9f7d-5496366f6c09"
      },
      "outputs": [
        {
          "data": {
            "text/plain": [
              "0.8182683982683983"
            ]
          },
          "execution_count": 152,
          "metadata": {},
          "output_type": "execute_result"
        }
      ],
      "source": [
        "cross_prec=cross_val_score(clf,X,Y,cv=5,scoring=\"precision\")\n",
        "cross_prec=np.mean(cross_prec)\n",
        "cross_prec"
      ]
    },
    {
      "cell_type": "code",
      "execution_count": null,
      "metadata": {
        "id": "z_cymVLuQV0i",
        "outputId": "f6006691-440a-47ba-f448-758b21384a9e"
      },
      "outputs": [
        {
          "data": {
            "text/plain": [
              "0.9030303030303031"
            ]
          },
          "execution_count": 153,
          "metadata": {},
          "output_type": "execute_result"
        }
      ],
      "source": [
        "cross_recall=cross_val_score(clf,X,Y,cv=5,scoring=\"recall\")\n",
        "cross_recall=np.mean(cross_recall)\n",
        "cross_recall"
      ]
    },
    {
      "cell_type": "code",
      "execution_count": null,
      "metadata": {
        "id": "PLqWI9RaQV0i",
        "outputId": "a6302cc3-aa85-4981-cf28-6da3135cf6cf"
      },
      "outputs": [
        {
          "data": {
            "text/plain": [
              "0.8572876223964057"
            ]
          },
          "execution_count": 155,
          "metadata": {},
          "output_type": "execute_result"
        }
      ],
      "source": [
        "cross_f1=cross_val_score(clf,X,Y,cv=5,scoring=\"f1\")\n",
        "cross_f1=np.mean(cross_f1)\n",
        "cross_f1"
      ]
    },
    {
      "cell_type": "code",
      "execution_count": null,
      "metadata": {
        "id": "CcN0FRbmQV0i",
        "outputId": "ee0ffe96-b087-4bd6-e42d-682ff6d2ab4e"
      },
      "outputs": [
        {
          "data": {
            "image/png": "[encoded data removed]",
            "text/plain": [
              "<Figure size 432x288 with 1 Axes>"
            ]
          },
          "metadata": {
            "needs_background": "light"
          },
          "output_type": "display_data"
        }
      ],
      "source": [
        "# Visualizing the cross_validated evaluation matrix\n",
        "cross_eval=pd.DataFrame({\"Accuracy\":cross_acc,\n",
        "                         \"Precison\":cross_prec,\n",
        "                         \"Recall\":cross_recall,\n",
        "                        \"F1-score\":cross_f1},index=[0])\n",
        "cross_eval.T.plot.bar(title=\"Evaluation over Cross-validated data\",color=[\"Lightblue\"],legend=False);"
      ]
    },
    {
      "cell_type": "markdown",
      "metadata": {
        "id": "cuYVOEIpQV0j"
      },
      "source": [
        "# Feature Importance\n",
        "> Feature importance tells us which features contributed most to the result and how!?\n",
        " * Finding feature importance is different for each machine learning model\n",
        " * Search for it\n",
        " ## Let's do it for our LogisticRegression model"
      ]
    },
    {
      "cell_type": "code",
      "execution_count": null,
      "metadata": {
        "id": "zgn2KBJ0QV0j",
        "outputId": "fcc2ca26-4d47-42c2-ec76-f9232601ce3a"
      },
      "outputs": [
        {
          "data": {
            "text/plain": [
              "LogisticRegression(C=0.1082636733874054, solver='liblinear')"
            ]
          },
          "execution_count": 176,
          "metadata": {},
          "output_type": "execute_result"
        }
      ],
      "source": [
        "clf=LogisticRegression(C=0.1082636733874054,solver=\"liblinear\")\n",
        "clf.fit(X_train,Y_train)"
      ]
    },
    {
      "cell_type": "code",
      "execution_count": null,
      "metadata": {
        "id": "xuZJXVnXQV0j",
        "outputId": "57b928eb-0ae2-4875-a0b0-33b6e6e44b8e"
      },
      "outputs": [
        {
          "data": {
            "text/plain": [
              "array([[ 0.00567294, -0.60072207,  0.66980091, -0.02126791, -0.00160921,\n",
              "        -0.06916533,  0.27208603,  0.02893199, -0.3358502 , -0.40005284,\n",
              "         0.23081045, -0.54819608, -0.50523544]])"
            ]
          },
          "execution_count": 177,
          "metadata": {},
          "output_type": "execute_result"
        }
      ],
      "source": [
        "clf.coef_"
      ]
    },
    {
      "cell_type": "code",
      "execution_count": null,
      "metadata": {
        "id": "jfC-6uJVQV0j",
        "outputId": "0af42820-6d04-4d7f-f8ee-36fa513e37a3"
      },
      "outputs": [
        {
          "data": {
            "text/plain": [
              "{'age': 0.0056729371632958155,\n",
              " 'sex': -0.6007220720654468,\n",
              " 'cp': 0.6698009068042059,\n",
              " 'trestbps': -0.021267914846836714,\n",
              " 'chol': -0.0016092122075890096,\n",
              " 'fbs': -0.06916533154265331,\n",
              " 'restecg': 0.2720860341377714,\n",
              " 'thalach': 0.028931992574676497,\n",
              " 'exang': -0.33585020317299197,\n",
              " 'oldpeak': -0.4000528404000073,\n",
              " 'slope': 0.23081045392087274,\n",
              " 'ca': -0.5481960806376583,\n",
              " 'thal': -0.5052354368626345}"
            ]
          },
          "execution_count": 180,
          "metadata": {},
          "output_type": "execute_result"
        }
      ],
      "source": [
        "coef_dic=dict(zip(df.columns,clf.coef_[0]))\n",
        "coef_dic"
      ]
    },
    {
      "cell_type": "code",
      "execution_count": null,
      "metadata": {
        "id": "Q1ZuCge8QV0j",
        "outputId": "5a0a16f4-bb87-4ed7-8af9-62ebbb4b503c"
      },
      "outputs": [
        {
          "data": {
            "image/png": "[encoded data removed]",
            "text/plain": [
              "<Figure size 432x288 with 1 Axes>"
            ]
          },
          "metadata": {
            "needs_background": "light"
          },
          "output_type": "display_data"
        }
      ],
      "source": [
        "coef_df=pd.DataFrame(coef_dic,index=[0])\n",
        "coef_df.T.plot.bar(title=\"Important Features for our model\");"
      ]
    },
    {
      "cell_type": "markdown",
      "metadata": {
        "id": "pY1oZVUmQV0k"
      },
      "source": [
        " And from the plot we can tell about the features that matters most to the model an dfeatures like age,chol,thalach doesn't matter much, "
      ]
    },
    {
      "cell_type": "code",
      "execution_count": null,
      "metadata": {
        "id": "evg7d6CkQV0k",
        "outputId": "eb85d918-777a-45ed-8994-c8ce79ec8a56"
      },
      "outputs": [
        {
          "data": {
            "text/html": [
              "<div>\n",
              "<style scoped>\n",
              "    .dataframe tbody tr th:only-of-type {\n",
              "        vertical-align: middle;\n",
              "    }\n",
              "\n",
              "    .dataframe tbody tr th {\n",
              "        vertical-align: top;\n",
              "    }\n",
              "\n",
              "    .dataframe thead th {\n",
              "        text-align: right;\n",
              "    }\n",
              "</style>\n",
              "<table border=\"1\" class=\"dataframe\">\n",
              "  <thead>\n",
              "    <tr style=\"text-align: right;\">\n",
              "      <th>target</th>\n",
              "      <th>0</th>\n",
              "      <th>1</th>\n",
              "    </tr>\n",
              "    <tr>\n",
              "      <th>slope</th>\n",
              "      <th></th>\n",
              "      <th></th>\n",
              "    </tr>\n",
              "  </thead>\n",
              "  <tbody>\n",
              "    <tr>\n",
              "      <th>0</th>\n",
              "      <td>12</td>\n",
              "      <td>9</td>\n",
              "    </tr>\n",
              "    <tr>\n",
              "      <th>1</th>\n",
              "      <td>91</td>\n",
              "      <td>49</td>\n",
              "    </tr>\n",
              "    <tr>\n",
              "      <th>2</th>\n",
              "      <td>35</td>\n",
              "      <td>107</td>\n",
              "    </tr>\n",
              "  </tbody>\n",
              "</table>\n",
              "</div>"
            ],
            "text/plain": [
              "target   0    1\n",
              "slope          \n",
              "0       12    9\n",
              "1       91   49\n",
              "2       35  107"
            ]
          },
          "execution_count": 189,
          "metadata": {},
          "output_type": "execute_result"
        }
      ],
      "source": [
        "# Let's review it \n",
        "# Positive correlation \n",
        "# Let's see slope\n",
        "pd.crosstab(df[\"slope\"],df[\"target\"])"
      ]
    },
    {
      "cell_type": "code",
      "execution_count": null,
      "metadata": {
        "id": "KuTk-8FoQV0k"
      },
      "outputs": [],
      "source": [
        "# As we see as value of slope increases the no. of heart disease patients increases\n",
        "# positively correlated"
      ]
    },
    {
      "cell_type": "code",
      "execution_count": null,
      "metadata": {
        "id": "TAlucEb_QV0k",
        "outputId": "96768910-ed90-4dc8-f225-682e8affbc75"
      },
      "outputs": [
        {
          "data": {
            "text/html": [
              "<div>\n",
              "<style scoped>\n",
              "    .dataframe tbody tr th:only-of-type {\n",
              "        vertical-align: middle;\n",
              "    }\n",
              "\n",
              "    .dataframe tbody tr th {\n",
              "        vertical-align: top;\n",
              "    }\n",
              "\n",
              "    .dataframe thead th {\n",
              "        text-align: right;\n",
              "    }\n",
              "</style>\n",
              "<table border=\"1\" class=\"dataframe\">\n",
              "  <thead>\n",
              "    <tr style=\"text-align: right;\">\n",
              "      <th>target</th>\n",
              "      <th>0</th>\n",
              "      <th>1</th>\n",
              "    </tr>\n",
              "    <tr>\n",
              "      <th>sex</th>\n",
              "      <th></th>\n",
              "      <th></th>\n",
              "    </tr>\n",
              "  </thead>\n",
              "  <tbody>\n",
              "    <tr>\n",
              "      <th>0</th>\n",
              "      <td>24</td>\n",
              "      <td>72</td>\n",
              "    </tr>\n",
              "    <tr>\n",
              "      <th>1</th>\n",
              "      <td>114</td>\n",
              "      <td>93</td>\n",
              "    </tr>\n",
              "  </tbody>\n",
              "</table>\n",
              "</div>"
            ],
            "text/plain": [
              "target    0   1\n",
              "sex            \n",
              "0        24  72\n",
              "1       114  93"
            ]
          },
          "execution_count": 192,
          "metadata": {},
          "output_type": "execute_result"
        }
      ],
      "source": [
        "# Negative correlation\n",
        "pd.crosstab(df.sex,df.target)"
      ]
    },
    {
      "cell_type": "code",
      "execution_count": null,
      "metadata": {
        "id": "-MQKrzvfQV0k"
      },
      "outputs": [],
      "source": [
        "# And here we see as sex(goes to 1) male the ratio has decreased"
      ]
    },
    {
      "cell_type": "code",
      "execution_count": null,
      "metadata": {
        "id": "H9n-h5OFQV0l"
      },
      "outputs": [],
      "source": [
        ""
      ]
    }
  ],
  "metadata": {
    "kernelspec": {
      "display_name": "Python 3",
      "language": "python",
      "name": "python3"
    },
    "language_info": {
      "codemirror_mode": {
        "name": "ipython",
        "version": 3
      },
      "file_extension": ".py",
      "mimetype": "text/x-python",
      "name": "python",
      "nbconvert_exporter": "python",
      "pygments_lexer": "ipython3",
      "version": "3.8.5"
    },
    "colab": {
      "name": "heart-disease-classification.ipynb",
      "provenance": []
    }
  },
  "nbformat": 4,
  "nbformat_minor": 0
}